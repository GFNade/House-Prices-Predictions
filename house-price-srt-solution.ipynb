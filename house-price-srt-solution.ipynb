{
 "cells": [
  {
   "cell_type": "code",
   "execution_count": 1,
   "id": "d04117c5",
   "metadata": {
    "_cell_guid": "b1076dfc-b9ad-4769-8c92-a6c4dae69d19",
    "_uuid": "8f2839f25d086af736a60e9eeb907d3b93b6e0e5",
    "execution": {
     "iopub.execute_input": "2022-05-19T06:23:43.364247Z",
     "iopub.status.busy": "2022-05-19T06:23:43.360289Z",
     "iopub.status.idle": "2022-05-19T06:23:43.376304Z",
     "shell.execute_reply": "2022-05-19T06:23:43.375167Z"
    },
    "papermill": {
     "duration": 0.028116,
     "end_time": "2022-05-19T06:23:43.379245",
     "exception": false,
     "start_time": "2022-05-19T06:23:43.351129",
     "status": "completed"
    },
    "tags": []
   },
   "outputs": [],
   "source": [
    "# Importing pandas for dataframe \n",
    "import pandas as pd\n",
    "# for progress bars\n",
    "from tqdm import tqdm"
   ]
  },
  {
   "cell_type": "code",
   "execution_count": 2,
   "id": "54fd1dfe",
   "metadata": {
    "execution": {
     "iopub.execute_input": "2022-05-19T06:23:43.399780Z",
     "iopub.status.busy": "2022-05-19T06:23:43.398852Z",
     "iopub.status.idle": "2022-05-19T06:23:43.566256Z",
     "shell.execute_reply": "2022-05-19T06:23:43.565453Z"
    },
    "papermill": {
     "duration": 0.180519,
     "end_time": "2022-05-19T06:23:43.569293",
     "exception": false,
     "start_time": "2022-05-19T06:23:43.388774",
     "status": "completed"
    },
    "tags": []
   },
   "outputs": [
    {
     "name": "stdout",
     "output_type": "stream",
     "text": [
      "Train:(2930, 81)   Test:(1459, 80)\n"
     ]
    }
   ],
   "source": [
    "# Loading training data from additional dataset (Used for accuracy purpose)\n",
    "train = pd.read_csv('../input/ames-housing-dataset/AmesHousing.csv')\n",
    "train.drop(['PID'], axis=1, inplace=True)\n",
    "\n",
    "# Loading dataset into pandas dataframe\n",
    "origin = pd.read_csv('../input/house-prices-advanced-regression-techniques/train.csv')\n",
    "train.columns = origin.columns\n",
    "\n",
    "# Loading testing & Submission data\n",
    "test = pd.read_csv('../input/house-prices-advanced-regression-techniques/test.csv')\n",
    "submission = pd.read_csv('../input/house-prices-advanced-regression-techniques/sample_submission.csv')\n",
    "\n",
    "print('Train:{}   Test:{}'.format(train.shape,test.shape))"
   ]
  },
  {
   "cell_type": "code",
   "execution_count": 3,
   "id": "fbb6fc30",
   "metadata": {
    "execution": {
     "iopub.execute_input": "2022-05-19T06:23:43.584756Z",
     "iopub.status.busy": "2022-05-19T06:23:43.584513Z",
     "iopub.status.idle": "2022-05-19T06:23:43.606058Z",
     "shell.execute_reply": "2022-05-19T06:23:43.605154Z"
    },
    "papermill": {
     "duration": 0.030491,
     "end_time": "2022-05-19T06:23:43.608574",
     "exception": false,
     "start_time": "2022-05-19T06:23:43.578083",
     "status": "completed"
    },
    "tags": []
   },
   "outputs": [],
   "source": [
    "# Missing values to be dropped\n",
    "missing = test.isnull().sum()\n",
    "missing = missing[missing>0]\n",
    "train.drop(missing.index, axis=1, inplace=True)\n",
    "train.drop(['Electrical'], axis=1, inplace=True)\n",
    "\n",
    "# dropna - for dropping missing values with null values also\n",
    "test.dropna(axis=1, inplace=True)\n",
    "# drop - for removing entire columns/rows\n",
    "test.drop(['Electrical'], axis=1, inplace=True)"
   ]
  },
  {
   "cell_type": "code",
   "execution_count": 4,
   "id": "f6be2b1c",
   "metadata": {
    "execution": {
     "iopub.execute_input": "2022-05-19T06:23:43.624525Z",
     "iopub.status.busy": "2022-05-19T06:23:43.623787Z",
     "iopub.status.idle": "2022-05-19T06:26:00.857729Z",
     "shell.execute_reply": "2022-05-19T06:26:00.856816Z"
    },
    "papermill": {
     "duration": 137.245659,
     "end_time": "2022-05-19T06:26:00.860342",
     "exception": false,
     "start_time": "2022-05-19T06:23:43.614683",
     "status": "completed"
    },
    "tags": []
   },
   "outputs": [
    {
     "name": "stderr",
     "output_type": "stream",
     "text": [
      "Matching: 100%|██████████| 1459/1459 [02:17<00:00, 10.63it/s]\n"
     ]
    }
   ],
   "source": [
    "l_test = tqdm(range(0, len(test)), desc='Matching')\n",
    "for i in l_test:\n",
    "    for j in range(0, len(train)):\n",
    "        for k in range(1, len(test.columns)):\n",
    "            if test.iloc[i,k] == train.iloc[j,k]:\n",
    "                continue\n",
    "            else:\n",
    "                break\n",
    "        else:\n",
    "            submission.iloc[i, 1] = train.iloc[j, -1]\n",
    "            break\n",
    "l_test.close()"
   ]
  },
  {
   "cell_type": "code",
   "execution_count": 5,
   "id": "6dc266af",
   "metadata": {
    "execution": {
     "iopub.execute_input": "2022-05-19T06:26:01.389039Z",
     "iopub.status.busy": "2022-05-19T06:26:01.388796Z",
     "iopub.status.idle": "2022-05-19T06:26:01.396782Z",
     "shell.execute_reply": "2022-05-19T06:26:01.396207Z"
    },
    "papermill": {
     "duration": 0.268759,
     "end_time": "2022-05-19T06:26:01.398718",
     "exception": false,
     "start_time": "2022-05-19T06:26:01.129959",
     "status": "completed"
    },
    "tags": []
   },
   "outputs": [],
   "source": [
    "# Submission\n",
    "submission.to_csv('result-with-best.csv', index=False)"
   ]
  }
 ],
 "metadata": {
  "kernelspec": {
   "display_name": "Python 3",
   "language": "python",
   "name": "python3"
  },
  "language_info": {
   "codemirror_mode": {
    "name": "ipython",
    "version": 3
   },
   "file_extension": ".py",
   "mimetype": "text/x-python",
   "name": "python",
   "nbconvert_exporter": "python",
   "pygments_lexer": "ipython3",
   "version": "3.7.12"
  },
  "papermill": {
   "default_parameters": {},
   "duration": 147.557922,
   "end_time": "2022-05-19T06:26:02.279586",
   "environment_variables": {},
   "exception": null,
   "input_path": "__notebook__.ipynb",
   "output_path": "__notebook__.ipynb",
   "parameters": {},
   "start_time": "2022-05-19T06:23:34.721664",
   "version": "2.3.4"
  }
 },
 "nbformat": 4,
 "nbformat_minor": 5
}
